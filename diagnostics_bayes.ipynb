{
  "nbformat": 4,
  "nbformat_minor": 0,
  "metadata": {
    "colab": {
      "provenance": [],
      "authorship_tag": "ABX9TyMs0/+G9vlbjhWrvNgh+7IF",
      "include_colab_link": true
    },
    "kernelspec": {
      "name": "python3",
      "display_name": "Python 3"
    },
    "language_info": {
      "name": "python"
    }
  },
  "cells": [
    {
      "cell_type": "markdown",
      "metadata": {
        "id": "view-in-github",
        "colab_type": "text"
      },
      "source": [
        "<a href=\"https://colab.research.google.com/github/Jaderfonseca/Medical-Diagnostics-with-Bayesian-Reasoning/blob/main/diagnostics_bayes.ipynb\" target=\"_parent\"><img src=\"https://colab.research.google.com/assets/colab-badge.svg\" alt=\"Open In Colab\"/></a>"
      ]
    },
    {
      "cell_type": "code",
      "execution_count": null,
      "metadata": {
        "id": "ARxyzQoQ588w"
      },
      "outputs": [],
      "source": [
        "# --- Setup (cell 1) ---\n",
        "import numpy as np\n",
        "import math\n",
        "from pathlib import Path\n",
        "import matplotlib.pyplot as plt\n",
        "\n",
        "# Reproducibility\n",
        "rng = np.random.default_rng(42)\n",
        "\n",
        "# Folders\n",
        "FIG_DIR = Path(\"figures\")\n",
        "FIG_DIR.mkdir(parents=True, exist_ok=True)\n"
      ]
    },
    {
      "cell_type": "code",
      "source": [
        "# --- Core Bayes helpers (cell 2) ---\n",
        "def odds(p: float) -> float:\n",
        "    \"\"\"Probability (0..1) -> odds.\"\"\"\n",
        "    if p <= 0 or p >= 1:\n",
        "        return math.inf if p == 1 else 0.0\n",
        "    return p / (1 - p)\n",
        "\n",
        "def prob_from_odds(o: float) -> float:\n",
        "    \"\"\"Odds -> probability (0..1).\"\"\"\n",
        "    return o / (1 + o)\n",
        "\n",
        "def likelihood_ratios(sens: float, spec: float):\n",
        "    \"\"\"Return LR+ and LR- from sensitivity and specificity.\"\"\"\n",
        "    lr_pos = sens / (1 - spec)\n",
        "    lr_neg = (1 - sens) / spec\n",
        "    return lr_pos, lr_neg\n",
        "\n",
        "def posterior_probs_from_test(sens: float, spec: float, prevalence: float):\n",
        "    \"\"\"\n",
        "    Return posterior probability of disease after:\n",
        "      - positive test\n",
        "      - negative test\n",
        "    using LR and prior odds (Bayes' theorem in odds form).\n",
        "    \"\"\"\n",
        "    prior_odds = odds(prevalence)\n",
        "    lr_pos, lr_neg = likelihood_ratios(sens, spec)\n",
        "    post_odds_pos = prior_odds * lr_pos\n",
        "    post_odds_neg = prior_odds * lr_neg\n",
        "    return prob_from_odds(post_odds_pos), prob_from_odds(post_odds_neg)\n"
      ],
      "metadata": {
        "id": "FUh-MQLl7huS"
      },
      "execution_count": null,
      "outputs": []
    },
    {
      "cell_type": "code",
      "source": [
        "# --- Simulation utilities (cell 3) ---\n",
        "def simulate_cohort(n: int, sens: float, spec: float, prevalence: float, rng=None):\n",
        "    \"\"\"Simulate n patients given sensitivity, specificity, and prevalence; return counts (TP/FP/FN/TN) and basic metrics.\"\"\"\n",
        "\n",
        "    if rng is None:\n",
        "        rng = np.random.default_rng()\n",
        "\n",
        "    # Disease status\n",
        "    has_disease = rng.random(n) < prevalence\n",
        "\n",
        "    # Test outcomes:\n",
        "    # If disease: test positive with prob sens, else negative\n",
        "    test_pos_if_d = rng.random(n) < sens\n",
        "    # If no disease: test positive with prob (1 - spec), else negative\n",
        "    test_pos_if_nd = rng.random(n) < (1 - spec)\n",
        "\n",
        "    test_positive = np.where(has_disease, test_pos_if_d, test_pos_if_nd)\n",
        "\n",
        "    # Confusion counts\n",
        "    tp = int(np.sum(test_positive & has_disease))\n",
        "    fp = int(np.sum(test_positive & ~has_disease))\n",
        "    fn = int(np.sum(~test_positive & has_disease))\n",
        "    tn = int(np.sum(~test_positive & ~has_disease))\n",
        "\n",
        "    # Metrics\n",
        "    ppv = tp / (tp + fp) if (tp + fp) > 0 else float('nan')\n",
        "    npv = tn / (tn + fn) if (tn + fn) > 0 else float('nan')\n",
        "    acc = (tp + tn) / n\n",
        "\n",
        "    return {\n",
        "        \"n\": n, \"TP\": tp, \"FP\": fp, \"FN\": fn, \"TN\": tn,\n",
        "        \"PPV\": ppv, \"NPV\": npv, \"ACC\": acc\n",
        "    }\n"
      ],
      "metadata": {
        "id": "AYo-nvvH7k6-"
      },
      "execution_count": null,
      "outputs": []
    },
    {
      "cell_type": "code",
      "source": [
        "# --- Plot helpers (cell 4) ---\n",
        "def plot_prior_posterior(prior_p: float, post_p_pos: float, post_p_neg: float, title: str, outfile: Path):\n",
        "    \"\"\"Plot and save bar chart of prior vs posterior probabilities (test+ / test-).\"\"\"\n",
        "\n",
        "    labels = [\"Prior\", \"Posterior (Test +)\", \"Posterior (Test -)\"]\n",
        "    values = [prior_p, post_p_pos, post_p_neg]\n",
        "\n",
        "    plt.figure(figsize=(6, 4))\n",
        "    plt.bar(labels, values)\n",
        "    plt.ylim(0, 1)\n",
        "    plt.ylabel(\"Probability\")\n",
        "    plt.title(title)\n",
        "    plt.tight_layout()\n",
        "    plt.savefig(outfile, dpi=200)\n",
        "    plt.close()\n",
        "\n",
        "def plot_fp_fn_counts(tp: int, fp: int, fn: int, tn: int, title: str, outfile: Path):\n",
        "    \"\"\"Plot and save bar chart of TP, FP, FN, TN counts in the simulated cohort.\"\"\"\n",
        "\n",
        "    labels = [\"TP\", \"FP\", \"FN\", \"TN\"]\n",
        "    values = [tp, fp, fn, tn]\n",
        "\n",
        "    plt.figure(figsize=(6, 4))\n",
        "    plt.bar(labels, values)\n",
        "    plt.ylabel(\"Count (per cohort)\")\n",
        "    plt.title(title)\n",
        "    plt.tight_layout()\n",
        "    plt.savefig(outfile, dpi=200)\n",
        "    plt.close()\n"
      ],
      "metadata": {
        "id": "0n5DLz_L7oyI"
      },
      "execution_count": null,
      "outputs": []
    },
    {
      "cell_type": "code",
      "source": [
        "# --- Case 1: Mammogram (cell 5) ---\n",
        "N = 1000\n",
        "prev1 = 0.01   # 1%\n",
        "sens1 = 0.85   # 85%\n",
        "spec1 = 0.90   # 90%\n",
        "\n",
        "# Theoretical posterior probabilities (Bayes)\n",
        "post_pos_1, post_neg_1 = posterior_probs_from_test(sens1, spec1, prev1)\n",
        "\n",
        "# Simulation\n",
        "res1 = simulate_cohort(N, sens1, spec1, prev1, rng=rng)\n",
        "\n",
        "# Save figures\n",
        "plot_prior_posterior(\n",
        "    prior_p=prev1,\n",
        "    post_p_pos=post_pos_1,\n",
        "    post_p_neg=post_neg_1,\n",
        "    title=\"Mammogram (40–49): Prior vs Posterior\",\n",
        "    outfile=FIG_DIR / \"mammogram_prior_posterior.png\"\n",
        ")\n",
        "\n",
        "plot_fp_fn_counts(\n",
        "    tp=res1[\"TP\"], fp=res1[\"FP\"], fn=res1[\"FN\"], tn=res1[\"TN\"],\n",
        "    title=\"Mammogram (40–49): TP/FP/FN/TN (n=1000)\",\n",
        "    outfile=FIG_DIR / \"mammogram_confusion_counts.png\"\n",
        ")\n",
        "\n",
        "res1, post_pos_1, post_neg_1\n"
      ],
      "metadata": {
        "id": "m3gkro3h7uxg"
      },
      "execution_count": null,
      "outputs": []
    },
    {
      "cell_type": "code",
      "source": [
        "# --- Case 2: COVID-19 Rapid Antigen (cell 6) ---\n",
        "N = 1000\n",
        "prev2 = 0.20   # 20%\n",
        "sens2 = 0.80   # 80%\n",
        "spec2 = 0.98   # 98%\n",
        "\n",
        "# Theoretical posterior probabilities (Bayes)\n",
        "post_pos_2, post_neg_2 = posterior_probs_from_test(sens2, spec2, prev2)\n",
        "\n",
        "# Simulation\n",
        "res2 = simulate_cohort(N, sens2, spec2, prev2, rng=rng)\n",
        "\n",
        "# Save figures\n",
        "plot_prior_posterior(\n",
        "    prior_p=prev2,\n",
        "    post_p_pos=post_pos_2,\n",
        "    post_p_neg=post_neg_2,\n",
        "    title=\"COVID-19 Rapid Test: Prior vs Posterior\",\n",
        "    outfile=FIG_DIR / \"covid_prior_posterior.png\"\n",
        ")\n",
        "\n",
        "plot_fp_fn_counts(\n",
        "    tp=res2[\"TP\"], fp=res2[\"FP\"], fn=res2[\"FN\"], tn=res2[\"TN\"],\n",
        "    title=\"COVID-19 Rapid Test: TP/FP/FN/TN (n=1000)\",\n",
        "    outfile=FIG_DIR / \"covid_confusion_counts.png\"\n",
        ")\n",
        "\n",
        "res2, post_pos_2, post_neg_2\n"
      ],
      "metadata": {
        "id": "MOKWxRRD7zRB"
      },
      "execution_count": null,
      "outputs": []
    },
    {
      "cell_type": "code",
      "source": [
        "# --- nice printouts (cell 7) ---\n",
        "def pretty_print_case(name, prevalence, sensitivity, specificity, res, post_pos, post_neg):\n",
        "    print(f\"=== {name} ===\")\n",
        "    print(f\"Prevalence: {prevalence*100:.2f}% | Sensitivity: {sensitivity*100:.1f}% | Specificity: {specificity*100:.1f}%\")\n",
        "    print(f\"Simulated counts (n={res['n']}): TP={res['TP']}  FP={res['FP']}  FN={res['FN']}  TN={res['TN']}\")\n",
        "    print(f\"PPV ~ {res['PPV']*100:.2f}% | NPV ~ {res['NPV']*100:.2f}% | Accuracy ~ {res['ACC']*100:.2f}%\")\n",
        "    print(f\"Bayes posterior P(disease | Test +): {post_pos*100:.2f}%\")\n",
        "    print(f\"Bayes posterior P(disease | Test -): {post_neg*100:.2f}%\")\n",
        "    print()\n",
        "\n",
        "pretty_print_case(\n",
        "    \"Case 1 — Mammogram (40–49)\",\n",
        "    prev1, sens1, spec1, res1, post_pos_1, post_neg_1\n",
        ")\n",
        "\n",
        "pretty_print_case(\n",
        "    \"Case 2 — COVID-19 Rapid Antigen\",\n",
        "    prev2, sens2, spec2, res2, post_pos_2, post_neg_2\n",
        ")\n",
        "\n",
        "print(\"Figures saved to:\", FIG_DIR.resolve())\n"
      ],
      "metadata": {
        "id": "odxCvB7F70nO"
      },
      "execution_count": null,
      "outputs": []
    }
  ]
}